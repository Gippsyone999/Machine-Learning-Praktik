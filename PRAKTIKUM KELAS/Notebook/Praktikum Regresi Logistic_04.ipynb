{
 "cells": [
  {
   "cell_type": "code",
   "execution_count": 2,
   "id": "9a508c50-44e9-48e0-8477-2822e4f2545d",
   "metadata": {},
   "outputs": [],
   "source": [
    "import numpy as np\n",
    "import pandas as pd\n",
    "import matplotlib.pyplot as plt\n",
    "\n",
    "from sklearn.model_selection import train_test_split\n",
    "from sklearn.compose import ColumnTransformer\n",
    "from sklearn.preprocessing import OneHotEncoder, StandardScaler\n",
    "from sklearn.pipeline import Pipeline\n",
    "from sklearn.linear_model import LogisticRegression\n",
    "from sklearn.metrics import (\n",
    "    accuracy_score, precision_score, recall_score, f1_score, roc_auc_score,\n",
    "    confusion_matrix, classification_report, RocCurveDisplay, ConfusionMatrixDisplay\n",
    ")"
   ]
  },
  {
   "cell_type": "code",
   "execution_count": 4,
   "id": "393ee30b-845c-46a0-a5cf-7a4beb24e103",
   "metadata": {},
   "outputs": [
    {
     "data": {
      "text/html": [
       "<div>\n",
       "<style scoped>\n",
       "    .dataframe tbody tr th:only-of-type {\n",
       "        vertical-align: middle;\n",
       "    }\n",
       "\n",
       "    .dataframe tbody tr th {\n",
       "        vertical-align: top;\n",
       "    }\n",
       "\n",
       "    .dataframe thead th {\n",
       "        text-align: right;\n",
       "    }\n",
       "</style>\n",
       "<table border=\"1\" class=\"dataframe\">\n",
       "  <thead>\n",
       "    <tr style=\"text-align: right;\">\n",
       "      <th></th>\n",
       "      <th>Jenis Kelamin</th>\n",
       "      <th>Umur (bulan)</th>\n",
       "      <th>Tinggi Badan (cm)</th>\n",
       "      <th>Berat Badan (kg)</th>\n",
       "      <th>Stunting</th>\n",
       "      <th>Wasting</th>\n",
       "    </tr>\n",
       "  </thead>\n",
       "  <tbody>\n",
       "    <tr>\n",
       "      <th>0</th>\n",
       "      <td>Laki-laki</td>\n",
       "      <td>19</td>\n",
       "      <td>91.6</td>\n",
       "      <td>13.3</td>\n",
       "      <td>Tall</td>\n",
       "      <td>Risk of Overweight</td>\n",
       "    </tr>\n",
       "    <tr>\n",
       "      <th>1</th>\n",
       "      <td>Laki-laki</td>\n",
       "      <td>20</td>\n",
       "      <td>77.7</td>\n",
       "      <td>8.5</td>\n",
       "      <td>Stunted</td>\n",
       "      <td>Underweight</td>\n",
       "    </tr>\n",
       "    <tr>\n",
       "      <th>2</th>\n",
       "      <td>Laki-laki</td>\n",
       "      <td>10</td>\n",
       "      <td>79.0</td>\n",
       "      <td>10.3</td>\n",
       "      <td>Normal</td>\n",
       "      <td>Risk of Overweight</td>\n",
       "    </tr>\n",
       "    <tr>\n",
       "      <th>3</th>\n",
       "      <td>Perempuan</td>\n",
       "      <td>2</td>\n",
       "      <td>50.3</td>\n",
       "      <td>8.3</td>\n",
       "      <td>Severely Stunted</td>\n",
       "      <td>Risk of Overweight</td>\n",
       "    </tr>\n",
       "    <tr>\n",
       "      <th>4</th>\n",
       "      <td>Perempuan</td>\n",
       "      <td>5</td>\n",
       "      <td>56.4</td>\n",
       "      <td>10.9</td>\n",
       "      <td>Severely Stunted</td>\n",
       "      <td>Risk of Overweight</td>\n",
       "    </tr>\n",
       "  </tbody>\n",
       "</table>\n",
       "</div>"
      ],
      "text/plain": [
       "  Jenis Kelamin  Umur (bulan)  Tinggi Badan (cm)  Berat Badan (kg)  \\\n",
       "0     Laki-laki            19               91.6              13.3   \n",
       "1     Laki-laki            20               77.7               8.5   \n",
       "2     Laki-laki            10               79.0              10.3   \n",
       "3     Perempuan             2               50.3               8.3   \n",
       "4     Perempuan             5               56.4              10.9   \n",
       "\n",
       "           Stunting             Wasting  \n",
       "0              Tall  Risk of Overweight  \n",
       "1           Stunted         Underweight  \n",
       "2            Normal  Risk of Overweight  \n",
       "3  Severely Stunted  Risk of Overweight  \n",
       "4  Severely Stunted  Risk of Overweight  "
      ]
     },
     "execution_count": 4,
     "metadata": {},
     "output_type": "execute_result"
    }
   ],
   "source": [
    "df = pd.read_csv(\"../Data/Stunting_wasting_dataset.csv\")\n",
    "df.head()"
   ]
  },
  {
   "cell_type": "code",
   "execution_count": 5,
   "id": "2a098b8f-1be8-4105-a909-6ec05f7dc7db",
   "metadata": {},
   "outputs": [
    {
     "name": "stdout",
     "output_type": "stream",
     "text": [
      "<class 'pandas.core.frame.DataFrame'>\n",
      "RangeIndex: 100000 entries, 0 to 99999\n",
      "Data columns (total 6 columns):\n",
      " #   Column             Non-Null Count   Dtype  \n",
      "---  ------             --------------   -----  \n",
      " 0   Jenis Kelamin      100000 non-null  object \n",
      " 1   Umur (bulan)       100000 non-null  int64  \n",
      " 2   Tinggi Badan (cm)  100000 non-null  float64\n",
      " 3   Berat Badan (kg)   100000 non-null  float64\n",
      " 4   Stunting           100000 non-null  object \n",
      " 5   Wasting            100000 non-null  object \n",
      "dtypes: float64(2), int64(1), object(3)\n",
      "memory usage: 4.6+ MB\n"
     ]
    }
   ],
   "source": [
    "df.info()"
   ]
  },
  {
   "cell_type": "code",
   "execution_count": 6,
   "id": "7898c42f-fc21-4999-ae59-70f7b8a7f8c3",
   "metadata": {},
   "outputs": [
    {
     "data": {
      "text/plain": [
       "Jenis Kelamin        0\n",
       "Umur (bulan)         0\n",
       "Tinggi Badan (cm)    0\n",
       "Berat Badan (kg)     0\n",
       "Stunting             0\n",
       "Wasting              0\n",
       "dtype: int64"
      ]
     },
     "execution_count": 6,
     "metadata": {},
     "output_type": "execute_result"
    }
   ],
   "source": [
    "df.isnull().sum()"
   ]
  },
  {
   "cell_type": "code",
   "execution_count": 11,
   "id": "12a6c649-d67e-4c33-aa95-87a84dfd716e",
   "metadata": {},
   "outputs": [
    {
     "data": {
      "text/plain": [
       "array(['Tall', 'Stunted', 'Normal', 'Severely Stunted'], dtype=object)"
      ]
     },
     "execution_count": 11,
     "metadata": {},
     "output_type": "execute_result"
    }
   ],
   "source": [
    "df[\"Stunting\"].unique()"
   ]
  },
  {
   "cell_type": "code",
   "execution_count": 12,
   "id": "f5189382-1404-4b40-8fee-c2c8912d4ec6",
   "metadata": {},
   "outputs": [
    {
     "data": {
      "text/plain": [
       "array(['Laki-laki', 'Perempuan'], dtype=object)"
      ]
     },
     "execution_count": 12,
     "metadata": {},
     "output_type": "execute_result"
    }
   ],
   "source": [
    "df['Jenis Kelamin'].unique()"
   ]
  },
  {
   "cell_type": "code",
   "execution_count": 34,
   "id": "fcd40206-60bf-4601-a40b-89997b3b69cd",
   "metadata": {},
   "outputs": [
    {
     "name": "stdout",
     "output_type": "stream",
     "text": [
      "Distribusi Stunting_bin:\n",
      " Stunting_bin\n",
      "0    78021\n",
      "1    21979\n",
      "Name: count, dtype: Int64\n",
      "\n",
      "Distribusi JK_bin:\n",
      " JK_bin\n",
      "1    50179\n",
      "0    49821\n",
      "Name: count, dtype: int64\n"
     ]
    }
   ],
   "source": [
    "map_stunt = {'Stunted': 1, 'Severely Stunted': 1, 'Normal': 0, 'Tall': 0}\n",
    "df['Stunting_bin'] = df['Stunting'].map(map_stunt).astype('Int64')\n",
    "\n",
    "df['JK_bin'] = (df['Jenis Kelamin'] == 'Laki-laki').astype(int)\n",
    "\n",
    "print(\"Distribusi Stunting_bin:\\n\", df['Stunting_bin'].value_counts())\n",
    "print(\"\\nDistribusi JK_bin:\\n\", df['JK_bin'].value_counts())"
   ]
  },
  {
   "cell_type": "code",
   "execution_count": 19,
   "id": "dccdcd71-5f45-4f09-b31c-be198bba789e",
   "metadata": {},
   "outputs": [
    {
     "data": {
      "text/html": [
       "<div>\n",
       "<style scoped>\n",
       "    .dataframe tbody tr th:only-of-type {\n",
       "        vertical-align: middle;\n",
       "    }\n",
       "\n",
       "    .dataframe tbody tr th {\n",
       "        vertical-align: top;\n",
       "    }\n",
       "\n",
       "    .dataframe thead th {\n",
       "        text-align: right;\n",
       "    }\n",
       "</style>\n",
       "<table border=\"1\" class=\"dataframe\">\n",
       "  <thead>\n",
       "    <tr style=\"text-align: right;\">\n",
       "      <th></th>\n",
       "      <th>Umur (bulan)</th>\n",
       "      <th>Tinggi Badan (cm)</th>\n",
       "      <th>Berat Badan (kg)</th>\n",
       "      <th>Stunting_bin</th>\n",
       "      <th>JK_bin</th>\n",
       "    </tr>\n",
       "  </thead>\n",
       "  <tbody>\n",
       "    <tr>\n",
       "      <th>Umur (bulan)</th>\n",
       "      <td>1.000000</td>\n",
       "      <td>0.875869</td>\n",
       "      <td>0.665389</td>\n",
       "      <td>0.038630</td>\n",
       "      <td>0.004046</td>\n",
       "    </tr>\n",
       "    <tr>\n",
       "      <th>Tinggi Badan (cm)</th>\n",
       "      <td>0.875869</td>\n",
       "      <td>1.000000</td>\n",
       "      <td>0.626005</td>\n",
       "      <td>-0.283855</td>\n",
       "      <td>0.073505</td>\n",
       "    </tr>\n",
       "    <tr>\n",
       "      <th>Berat Badan (kg)</th>\n",
       "      <td>0.665389</td>\n",
       "      <td>0.626005</td>\n",
       "      <td>1.000000</td>\n",
       "      <td>0.021090</td>\n",
       "      <td>0.045797</td>\n",
       "    </tr>\n",
       "    <tr>\n",
       "      <th>Stunting_bin</th>\n",
       "      <td>0.038630</td>\n",
       "      <td>-0.283855</td>\n",
       "      <td>0.021090</td>\n",
       "      <td>1.000000</td>\n",
       "      <td>-0.005981</td>\n",
       "    </tr>\n",
       "    <tr>\n",
       "      <th>JK_bin</th>\n",
       "      <td>0.004046</td>\n",
       "      <td>0.073505</td>\n",
       "      <td>0.045797</td>\n",
       "      <td>-0.005981</td>\n",
       "      <td>1.000000</td>\n",
       "    </tr>\n",
       "  </tbody>\n",
       "</table>\n",
       "</div>"
      ],
      "text/plain": [
       "                   Umur (bulan)  Tinggi Badan (cm)  Berat Badan (kg)  \\\n",
       "Umur (bulan)           1.000000           0.875869          0.665389   \n",
       "Tinggi Badan (cm)      0.875869           1.000000          0.626005   \n",
       "Berat Badan (kg)       0.665389           0.626005          1.000000   \n",
       "Stunting_bin           0.038630          -0.283855          0.021090   \n",
       "JK_bin                 0.004046           0.073505          0.045797   \n",
       "\n",
       "                   Stunting_bin    JK_bin  \n",
       "Umur (bulan)           0.038630  0.004046  \n",
       "Tinggi Badan (cm)     -0.283855  0.073505  \n",
       "Berat Badan (kg)       0.021090  0.045797  \n",
       "Stunting_bin           1.000000 -0.005981  \n",
       "JK_bin                -0.005981  1.000000  "
      ]
     },
     "execution_count": 19,
     "metadata": {},
     "output_type": "execute_result"
    }
   ],
   "source": [
    "corr_matrix = df.corr(numeric_only=True)\n",
    "corr_matrix"
   ]
  },
  {
   "cell_type": "code",
   "execution_count": 24,
   "id": "f5e849a5-3c27-4bc4-bcb0-ed5677c3c38a",
   "metadata": {},
   "outputs": [
    {
     "data": {
      "image/png": "[encoded data removed]",
      "text/plain": [
       "<Figure size 800x600 with 2 Axes>"
      ]
     },
     "metadata": {},
     "output_type": "display_data"
    }
   ],
   "source": [
    "import seaborn as sns\n",
    "import matplotlib.pyplot as plt\n",
    "\n",
    "plt.figure(figsize=(8,6))\n",
    "sns.heatmap(corr_matrix, annot=True, cmap='coolwarm', fmt=\".2f\", linewidths=0.5)\n",
    "plt.title(\"Heatmap Korelasi Antar Variable Numerik terhadap Stunting\", fontsize=12)\n",
    "plt.show()"
   ]
  },
  {
   "cell_type": "code",
   "execution_count": 35,
   "id": "639637dd-fc6e-47e9-bca0-46debc615c77",
   "metadata": {},
   "outputs": [
    {
     "name": "stdout",
     "output_type": "stream",
     "text": [
      "X shape: (100000, 4)\n",
      "y shape: (100000,)\n"
     ]
    }
   ],
   "source": [
    "feature_num = ['Umur (bulan)', 'Tinggi Badan (cm)', 'Berat Badan (kg)']\n",
    "feature_bin = ['JK_bin']\n",
    "\n",
    "use_cols = feature_num + feature_bin + ['Stunting_bin']\n",
    "df_model = df[use_cols].dropna().copy()\n",
    "\n",
    "X = df_model[feature_num + feature_bin]\n",
    "y = df_model['Stunting_bin']\n",
    "\n",
    "print(\"X shape:\", X.shape)\n",
    "print(\"y shape:\", y.shape)"
   ]
  },
  {
   "cell_type": "code",
   "execution_count": 26,
   "id": "8755100f-031f-40d2-bcd7-26e47186e179",
   "metadata": {},
   "outputs": [
    {
     "name": "stdout",
     "output_type": "stream",
     "text": [
      "Data latih: (80000, 4)\n",
      "Data uji: (20000, 4)\n"
     ]
    }
   ],
   "source": [
    "X_train, X_test, y_train, y_test = train_test_split(\n",
    "    X, y,\n",
    "    test_size=0.2,\n",
    "    random_state=42,\n",
    "    stratify=y\n",
    ")\n",
    "\n",
    "print(\"Data latih:\", X_train.shape)\n",
    "print(\"Data uji:\", X_test.shape)"
   ]
  },
  {
   "cell_type": "code",
   "execution_count": 37,
   "id": "af7cb0b5-c035-4b04-a64e-ed0f7d7fd810",
   "metadata": {},
   "outputs": [
    {
     "name": "stdout",
     "output_type": "stream",
     "text": [
      "✅ Model Logistic Regression berhasil dilatih.\n"
     ]
    }
   ],
   "source": [
    "preprocess = ColumnTransformer(\n",
    "    transformers=[\n",
    "        ('num', StandardScaler(), feature_num),\n",
    "        ('bin', 'passthrough', feature_bin)\n",
    "    ],\n",
    "    remainder='drop'\n",
    ")\n",
    "\n",
    "model = LogisticRegression(\n",
    "    max_iter=1000,\n",
    "    solver='lbfgs',\n",
    "    class_weight='balanced',\n",
    "    random_state=42\n",
    ")\n",
    "\n",
    "clf = Pipeline([\n",
    "    ('preprocess', preprocess),\n",
    "    ('model', model)\n",
    "])\n",
    "\n",
    "clf.fit(X_train, y_train)\n",
    "print(\"✅ Model Logistic Regression berhasil dilatih.\")"
   ]
  },
  {
   "cell_type": "code",
   "execution_count": 38,
   "id": "edab4455-d8e3-4240-928e-8988487f10ff",
   "metadata": {},
   "outputs": [
    {
     "name": "stdout",
     "output_type": "stream",
     "text": [
      "Akurasi    : 0.9055\n",
      "Precision  : 0.7152\n",
      "Recall     : 0.9472\n",
      "F1-Score   : 0.8150\n",
      "ROC-AUC    : 0.9656\n"
     ]
    }
   ],
   "source": [
    "y_pred = clf.predict(X_test)\n",
    "y_prob = clf.predict_proba(X_test)[:, 1]\n",
    "\n",
    "# Hitung metrik\n",
    "print(f\"Akurasi    : {accuracy_score(y_test, y_pred):.4f}\")\n",
    "print(f\"Precision  : {precision_score(y_test, y_pred, zero_division=0):.4f}\")\n",
    "print(f\"Recall     : {recall_score(y_test, y_pred, zero_division=0):.4f}\")\n",
    "print(f\"F1-Score   : {f1_score(y_test, y_pred, zero_division=0):.4f}\")\n",
    "print(f\"ROC-AUC    : {roc_auc_score(y_test, y_prob):.4f}\")"
   ]
  },
  {
   "cell_type": "code",
   "execution_count": 36,
   "id": "1631265e-3f46-413a-bcbc-92e8807b9a68",
   "metadata": {},
   "outputs": [
    {
     "data": {
      "image/png": "[encoded data removed]",
      "text/plain": [
       "<Figure size 640x480 with 2 Axes>"
      ]
     },
     "metadata": {},
     "output_type": "display_data"
    },
    {
     "data": {
      "image/png": "[encoded data removed]",
      "text/plain": [
       "<Figure size 640x480 with 1 Axes>"
      ]
     },
     "metadata": {},
     "output_type": "display_data"
    }
   ],
   "source": [
    "ConfusionMatrixDisplay(confusion_matrix(y_test, y_pred),\n",
    "                       display_labels=['Normal', 'Stunting']\n",
    "                       ).plot(values_format='d')\n",
    "plt.title(\"Confusion Matrix\")\n",
    "plt.show()\n",
    "\n",
    "RocCurveDisplay.from_estimator(clf, X_test, y_test)\n",
    "plt.title(\"ROC Curve Logistic Regression\")\n",
    "plt.show()"
   ]
  },
  {
   "cell_type": "code",
   "execution_count": 30,
   "id": "8d8b9277-6503-41ee-b00b-32f5444d864d",
   "metadata": {},
   "outputs": [
    {
     "name": "stdout",
     "output_type": "stream",
     "text": [
      "                    precision    recall  f1-score   support\n",
      "\n",
      "Tidak Stunting (0)       0.98      0.89      0.94     15604\n",
      "      Stunting (1)       0.72      0.95      0.82      4396\n",
      "\n",
      "          accuracy                           0.91     20000\n",
      "         macro avg       0.85      0.92      0.88     20000\n",
      "      weighted avg       0.92      0.91      0.91     20000\n",
      "\n"
     ]
    }
   ],
   "source": [
    "from sklearn.metrics import classification_report\n",
    "print(classification_report(y_test, y_pred, target_names=['Tidak Stunting (0)', 'Stunting (1)']))"
   ]
  },
  {
   "cell_type": "code",
   "execution_count": 40,
   "id": "7cde47d9-6461-4e6a-9b63-0227edb05bd4",
   "metadata": {},
   "outputs": [
    {
     "name": "stdout",
     "output_type": "stream",
     "text": [
      "Skor tiap fold: [0.9062  0.9013  0.9052  0.89905 0.9002 ]\n",
      "Rata-rata akurasi: 0.9023899999999999\n",
      "Standar deviasi: 0.0028125433329995106\n"
     ]
    }
   ],
   "source": [
    "from sklearn.model_selection import cross_val_score\n",
    "\n",
    "scores = cross_val_score(clf, X, y, cv=5)\n",
    "\n",
    "print(\"Skor tiap fold:\", scores)\n",
    "print(\"Rata-rata akurasi:\", np.mean(scores))\n",
    "print(\"Standar deviasi:\", np.std(scores))"
   ]
  },
  {
   "cell_type": "code",
   "execution_count": 41,
   "id": "8e1293bd-5384-4150-88d8-acf2c8368ef1",
   "metadata": {},
   "outputs": [
    {
     "data": {
      "text/html": [
       "<div>\n",
       "<style scoped>\n",
       "    .dataframe tbody tr th:only-of-type {\n",
       "        vertical-align: middle;\n",
       "    }\n",
       "\n",
       "    .dataframe tbody tr th {\n",
       "        vertical-align: top;\n",
       "    }\n",
       "\n",
       "    .dataframe thead th {\n",
       "        text-align: right;\n",
       "    }\n",
       "</style>\n",
       "<table border=\"1\" class=\"dataframe\">\n",
       "  <thead>\n",
       "    <tr style=\"text-align: right;\">\n",
       "      <th></th>\n",
       "      <th>Fitur</th>\n",
       "      <th>Koefisien (log-odds)</th>\n",
       "      <th>Odds Ratio (e^coef)</th>\n",
       "    </tr>\n",
       "  </thead>\n",
       "  <tbody>\n",
       "    <tr>\n",
       "      <th>0</th>\n",
       "      <td>Umur (bulan)</td>\n",
       "      <td>8.525912</td>\n",
       "      <td>5043.782458</td>\n",
       "    </tr>\n",
       "    <tr>\n",
       "      <th>3</th>\n",
       "      <td>JK_bin</td>\n",
       "      <td>1.675944</td>\n",
       "      <td>5.343839</td>\n",
       "    </tr>\n",
       "    <tr>\n",
       "      <th>2</th>\n",
       "      <td>Berat Badan (kg)</td>\n",
       "      <td>0.661090</td>\n",
       "      <td>1.936903</td>\n",
       "    </tr>\n",
       "    <tr>\n",
       "      <th>1</th>\n",
       "      <td>Tinggi Badan (cm)</td>\n",
       "      <td>-10.535980</td>\n",
       "      <td>0.000027</td>\n",
       "    </tr>\n",
       "  </tbody>\n",
       "</table>\n",
       "</div>"
      ],
      "text/plain": [
       "               Fitur  Koefisien (log-odds)  Odds Ratio (e^coef)\n",
       "0       Umur (bulan)              8.525912          5043.782458\n",
       "3             JK_bin              1.675944             5.343839\n",
       "2   Berat Badan (kg)              0.661090             1.936903\n",
       "1  Tinggi Badan (cm)            -10.535980             0.000027"
      ]
     },
     "metadata": {},
     "output_type": "display_data"
    }
   ],
   "source": [
    "feat_names = feature_num + feature_bin\n",
    "coeffs = clf.named_steps['model'].coef_[0]\n",
    "odds = np.exp(coeffs)\n",
    "\n",
    "coef_df = pd.DataFrame({\n",
    "    'Fitur': feat_names,\n",
    "    'Koefisien (log-odds)': coeffs,\n",
    "    'Odds Ratio (e^coef)': odds\n",
    "}).sort_values('Odds Ratio (e^coef)', ascending=False)\n",
    "\n",
    "display(coef_df)"
   ]
  },
  {
   "cell_type": "code",
   "execution_count": 39,
   "id": "ad82bc12-b353-4ecd-a3b3-75becb882592",
   "metadata": {},
   "outputs": [
    {
     "data": {
      "text/html": [
       "<div>\n",
       "<style scoped>\n",
       "    .dataframe tbody tr th:only-of-type {\n",
       "        vertical-align: middle;\n",
       "    }\n",
       "\n",
       "    .dataframe tbody tr th {\n",
       "        vertical-align: top;\n",
       "    }\n",
       "\n",
       "    .dataframe thead th {\n",
       "        text-align: right;\n",
       "    }\n",
       "</style>\n",
       "<table border=\"1\" class=\"dataframe\">\n",
       "  <thead>\n",
       "    <tr style=\"text-align: right;\">\n",
       "      <th></th>\n",
       "      <th>Umur (bulan)</th>\n",
       "      <th>Tinggi Badan (cm)</th>\n",
       "      <th>Berat Badan (kg)</th>\n",
       "      <th>JK_bin</th>\n",
       "      <th>Prob_Stunting</th>\n",
       "      <th>Pred (0=Tidak,1=Ya)</th>\n",
       "    </tr>\n",
       "  </thead>\n",
       "  <tbody>\n",
       "    <tr>\n",
       "      <th>0</th>\n",
       "      <td>24</td>\n",
       "      <td>79.0</td>\n",
       "      <td>9.2</td>\n",
       "      <td>1</td>\n",
       "      <td>0.998208</td>\n",
       "      <td>1.0</td>\n",
       "    </tr>\n",
       "    <tr>\n",
       "      <th>1</th>\n",
       "      <td>10</td>\n",
       "      <td>72.5</td>\n",
       "      <td>7.8</td>\n",
       "      <td>0</td>\n",
       "      <td>0.002094</td>\n",
       "      <td>0.0</td>\n",
       "    </tr>\n",
       "  </tbody>\n",
       "</table>\n",
       "</div>"
      ],
      "text/plain": [
       "   Umur (bulan)  Tinggi Badan (cm)  Berat Badan (kg)  JK_bin  Prob_Stunting  \\\n",
       "0            24               79.0               9.2       1       0.998208   \n",
       "1            10               72.5               7.8       0       0.002094   \n",
       "\n",
       "   Pred (0=Tidak,1=Ya)  \n",
       "0                  1.0  \n",
       "1                  0.0  "
      ]
     },
     "metadata": {},
     "output_type": "display_data"
    }
   ],
   "source": [
    "data_baru = pd.DataFrame({\n",
    "    'Umur (bulan)': [24, 10],\n",
    "    'Tinggi Badan (cm)': [79.0, 72.5],\n",
    "    'Berat Badan (kg)': [9.2, 7.8],\n",
    "    'JK_bin': [1, 0] # 1=Laki-Laki, 0=Perempuan\n",
    "})\n",
    "\n",
    "pred = clf.predict(data_baru)\n",
    "prob = clf.predict_proba(data_baru)[:,1]\n",
    "\n",
    "hasil = data_baru.copy()\n",
    "hasil['Prob_Stunting'] = prob\n",
    "hasil['Pred (0=Tidak,1=Ya)'] = pred\n",
    "display(hasil)"
   ]
  },
  {
   "cell_type": "code",
   "execution_count": null,
   "id": "fc8a0cbb-0351-474a-bd62-f15a7b105d8e",
   "metadata": {},
   "outputs": [],
   "source": []
  }
 ],
 "metadata": {
  "kernelspec": {
   "display_name": "Python 3 (ipykernel)",
   "language": "python",
   "name": "python3"
  },
  "language_info": {
   "codemirror_mode": {
    "name": "ipython",
    "version": 3
   },
   "file_extension": ".py",
   "mimetype": "text/x-python",
   "name": "python",
   "nbconvert_exporter": "python",
   "pygments_lexer": "ipython3",
   "version": "3.13.7"
  }
 },
 "nbformat": 4,
 "nbformat_minor": 5
}
